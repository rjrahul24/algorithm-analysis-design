{
  "nbformat": 4,
  "nbformat_minor": 0,
  "metadata": {
    "colab": {
      "name": "Merge Sort.ipynb",
      "provenance": [],
      "authorship_tag": "ABX9TyO8ln6u1JDLf8jWeqzClX9a",
      "include_colab_link": true
    },
    "kernelspec": {
      "name": "python3",
      "display_name": "Python 3"
    },
    "language_info": {
      "name": "python"
    }
  },
  "cells": [
    {
      "cell_type": "markdown",
      "metadata": {
        "id": "view-in-github",
        "colab_type": "text"
      },
      "source": [
        "<a href=\"https://colab.research.google.com/github/rjrahul24/algorithm-analysis-design/blob/main/Searching%20and%20Sorting/Merge_Sort.ipynb\" target=\"_parent\"><img src=\"https://colab.research.google.com/assets/colab-badge.svg\" alt=\"Open In Colab\"/></a>"
      ]
    },
    {
      "cell_type": "code",
      "metadata": {
        "id": "PA9rYQ9v1RZP"
      },
      "source": [
        "# First we define the merge function\n",
        "\n",
        "def merge(left, right):\n",
        "  i = 0\n",
        "  j = 0\n",
        "  result = []\n",
        "  while (i < len(left) and j < len(right)):\n",
        "    if (left[i] < right[j]):\n",
        "      result.append(left[i])\n",
        "      i = i + 1\n",
        "    else:\n",
        "      result.append(right[j])\n",
        "      j = j + 1\n",
        "  \n",
        "  result.extend(left[i:])\n",
        "  result.extend(right[j:])\n",
        "\n",
        "  return result"
      ],
      "execution_count": 50,
      "outputs": []
    },
    {
      "cell_type": "code",
      "metadata": {
        "id": "a1bpxF67zllv"
      },
      "source": [
        "# Now we define the merge sort function that would divide the input to two halves until the size of the input is less than 2.\n",
        "\n",
        "def merge_sort(arr):\n",
        "  length = len(arr)\n",
        "\n",
        "  result = []\n",
        "  if (length < 2):\n",
        "    return arr\n",
        "  else:\n",
        "    mid = length // 2\n",
        "    A = merge_sort(arr[:mid])\n",
        "    B = merge_sort(arr[mid:])\n",
        "    return merge(A,B)"
      ],
      "execution_count": 51,
      "outputs": []
    },
    {
      "cell_type": "code",
      "metadata": {
        "colab": {
          "base_uri": "https://localhost:8080/"
        },
        "id": "sVWhP0XxgUzQ",
        "outputId": "79735539-a802-4cfc-c922-a921cd84f139"
      },
      "source": [
        "# Let's assume an input list as follows and we call Merge Sort with this input\n",
        "\n",
        "input = [7,6,4,5,9,11,13,21,16,17,29,27,10]\n",
        "merge_sort(input)"
      ],
      "execution_count": 52,
      "outputs": [
        {
          "output_type": "execute_result",
          "data": {
            "text/plain": [
              "[4, 5, 6, 7, 9, 10, 11, 13, 16, 17, 21, 27, 29]"
            ]
          },
          "metadata": {},
          "execution_count": 52
        }
      ]
    },
    {
      "cell_type": "code",
      "metadata": {
        "id": "nj_KNrDW5nDp"
      },
      "source": [
        ""
      ],
      "execution_count": null,
      "outputs": []
    }
  ]
}